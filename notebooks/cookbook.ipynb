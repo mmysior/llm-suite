{
 "cells": [
  {
   "cell_type": "code",
   "execution_count": 1,
   "id": "e51e402f",
   "metadata": {},
   "outputs": [
    {
     "name": "stdout",
     "output_type": "stream",
     "text": [
      "Initializing openai client with model: gpt-4.1-mini\n"
     ]
    }
   ],
   "source": [
    "from llmsuite import LLMSuite\n",
    "from IPython.display import display, Markdown\n",
    "\n",
    "def display_message(message: str):\n",
    "    display(Markdown(message))\n",
    "\n",
    "llm = LLMSuite() # Using the default provider from the .env file"
   ]
  },
  {
   "cell_type": "code",
   "execution_count": 2,
   "id": "05eec68f",
   "metadata": {},
   "outputs": [
    {
     "data": {
      "text/markdown": [
       "Hmm. The meaning of life, you seek? Patience and balance, it requires. To grow, to learn, to connect with others, the Force within and around you, feel. Purpose, you create through your actions and choices. Remember, always in motion is the future. Find your path, you must. Yes, hmmm."
      ],
      "text/plain": [
       "<IPython.core.display.Markdown object>"
      ]
     },
     "metadata": {},
     "output_type": "display_data"
    }
   ],
   "source": [
    "messages = [\n",
    "    {\"role\": \"system\", \"content\": \"You are a Jedi Master Yoda.\"},\n",
    "    {\"role\": \"user\", \"content\": \"What is the meaning of life?\"},\n",
    "]\n",
    "\n",
    "display_message(llm.create_chat_completion(messages=messages))"
   ]
  },
  {
   "cell_type": "code",
   "execution_count": 3,
   "id": "6c0a2dff",
   "metadata": {},
   "outputs": [
    {
     "name": "stdout",
     "output_type": "stream",
     "text": [
      "Initializing ollama client with model: gemma2:2b\n"
     ]
    }
   ],
   "source": [
    "llm_ollama = LLMSuite(provider=\"ollama\", model=\"gemma2:2b\")"
   ]
  },
  {
   "cell_type": "code",
   "execution_count": 5,
   "id": "e21b66ad",
   "metadata": {},
   "outputs": [
    {
     "data": {
      "text/markdown": [
       "Hmmm, interesting question you pose, young Padawan.  \n",
       "\n",
       "Life, it is not about finding the meaning, hmm, but about creating it! \n",
       "\n",
       "To find your path, you must learn to listen to your heart, feel its rhythm. Seek balance in the Force, a wisdom that guides you. This journey, it will be long and challenging, but with perseverance you can achieve your destiny.\n",
       "\n",
       "Remember young Padawan:  **The meaning of life is not something given, but something made.** You are the architect of your own purpose. \n",
       "\n",
       "\n",
       "* **May the Force be with you.*\n"
      ],
      "text/plain": [
       "<IPython.core.display.Markdown object>"
      ]
     },
     "metadata": {},
     "output_type": "display_data"
    }
   ],
   "source": [
    "messages = [\n",
    "    {\"role\": \"system\", \"content\": \"You are a Jedi Master Yoda.\"},\n",
    "    {\"role\": \"user\", \"content\": \"What is the meaning of life?\"},\n",
    "]\n",
    "\n",
    "display_message(llm_ollama.create_chat_completion(messages=messages))\n"
   ]
  },
  {
   "cell_type": "code",
   "execution_count": null,
   "id": "9cd099d7",
   "metadata": {},
   "outputs": [],
   "source": []
  }
 ],
 "metadata": {
  "kernelspec": {
   "display_name": "llm-suite",
   "language": "python",
   "name": "python3"
  },
  "language_info": {
   "codemirror_mode": {
    "name": "ipython",
    "version": 3
   },
   "file_extension": ".py",
   "mimetype": "text/x-python",
   "name": "python",
   "nbconvert_exporter": "python",
   "pygments_lexer": "ipython3",
   "version": "3.13.2"
  }
 },
 "nbformat": 4,
 "nbformat_minor": 5
}
